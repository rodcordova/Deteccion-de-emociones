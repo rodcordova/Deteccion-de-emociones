{
 "cells": [
  {
   "cell_type": "code",
   "execution_count": 11,
   "metadata": {},
   "outputs": [],
   "source": [
    "#bing scraping\n",
    "import requests\n",
    "import lxml\n",
    "from bs4 import BeautifulSoup\n",
    "import funciones\n",
    "from\tnltk\timport\tword_tokenize\n",
    "from nltk import re\n",
    "palabra = \"eth\"\n"
   ]
  },
  {
   "cell_type": "markdown",
   "metadata": {},
   "source": [
    "### Funciones"
   ]
  },
  {
   "cell_type": "code",
   "execution_count": 1,
   "metadata": {},
   "outputs": [],
   "source": [
    "import requests\n",
    "from textblob import TextBlob\n",
    "from bs4 import BeautifulSoup\n",
    "\n",
    "def scrape_url(url : str):\n",
    "  polaridadTot = 0\n",
    "  texto_com = \"\"\n",
    "  response = requests.get(url)\n",
    "  soup = BeautifulSoup(response.content, \"html.parser\")\n",
    "  paragraphs = soup.find_all('p')\n",
    "  titulo = soup.title.text.strip()\n",
    "  texto_com = \" \".join(paragraph.text for paragraph in paragraphs)\n",
    "  polaridad = TextBlob(texto_com).sentiment.polarity\n",
    " # if polaridad > 0:\n",
    "  #  print(titulo + \" positivo \")\n",
    "  #elif polaridad < 0:\n",
    "   # print(titulo + \" negativo \")\n",
    "  #else:\n",
    "   # print(titulo + \" neutro \")\n",
    "  #print(polaridad)\n",
    "  return {\"title\": titulo, \"body\": texto_com, \"url\": url}"
   ]
  },
  {
   "cell_type": "code",
   "execution_count": 5,
   "metadata": {},
   "outputs": [],
   "source": [
    "l=[]\n",
    "target_url=\"https://www.bing.com/news/search?q=\" + palabra\n",
    "headers={\"User-Agent\":\"Mozilla/5.0 (Windows NT 10.0; Win64; x64) AppleWebKit/537.36 (KHTML, like Gecko) Chrome/107.0.0.0 Safari/537.36\"}\n",
    "resp=requests.get(target_url,headers=headers)\n",
    "soup = BeautifulSoup(resp.text, \"lxml\")\n",
    "for result in soup.select('.card-with-cluster')[:5]:\n",
    "  bingUrl = result.select_one('.title')['href']\n",
    "  l.append(scrape_url(bingUrl))\n"
   ]
  },
  {
   "cell_type": "code",
   "execution_count": 6,
   "metadata": {},
   "outputs": [
    {
     "data": {
      "text/plain": [
       "[{'title': 'Just a moment...',\n",
       "  'body': '',\n",
       "  'url': 'https://es.cointelegraph.com/news/ethereum-bitcoin-gas-fee-surge-reignite-scalability-debate'},\n",
       " {'title': 'Ethereum hoy: la cotización al 10 de noviembre - LA NACION',\n",
       "  'body': 'Ethereum (ETH) cotiza hoy, 10 de noviembre, a US$2092.96, según el portal Live Coin Watch. Este precio lo posiciona 1,09% respecto de su valor hace 24 horas y 1,17% en comparación con el mismo día de la semana pasada. El dominio actual (cotización de mercado) del token es US$248.396.352.809. Ethereum es una plataforma de código abierto descentralizada que corre sobre su propia blockchain y permite que cada desarrollador pueda programar nuevos tipos de aplicaciones. \\n    Muchos definen a Ethereum como una supercomputadora digital donde cualquier usuario puede ejecutar las aplicaciones desarrolladas por los programadores de cualquier parte del mundo. \\n    El criptoactivo, creado por el joven ruso criado en Canadá Vitálik Buterin en 2015 bajo la tecnología blockchain, \\n    se destacó desde el inicio por ser el primero en incluir contratos inteligentes (smart contracts) programables en sus bloques.\\n     En 2018 Ethereum era un proyecto provisorio. Hoy es el segundo criptoactivo con mayor capitalización de mercado y una de las blockchain más utilizadas para\\n    DeFi (Finanzas Descentralizadas) y NFT (activos digitales únicos e irrepetibles, cada vez más utilizados para obras de arte digital). Ethereum creó la red ERC-20, una blockchain con contratos inteligentes embebidos bajo el lenguaje de programación Singularity donde se montan los nuevos proyectos que necesitan utilizar su amplio poder de cómputo e interoperabilidad. Criptoinvierno En un contexto de crisis económica mundial, con tasas de inflación inéditas en Estados Unidos y Europa, \\n    y una guerra entre Rusia y Ucrania que nadie sabe cuándo -ni cómo- terminará, las criptomonedas sufren uno de sus peores momentos y\\n    los especialistas dicen que este criptoinvierno podría llegar a durar hasta un año y medio. En un informe titulado “Criptoinvierno: claves para entender la caída de las criptomonedas a nivel mundial”, \\n    la periodista de la BBC Cecilia Barría explica que esta caída abrupta llegó justo después del mejor momento histórico del mundo cripto.\\n    En apenas cinco años, un bitcoin pasó de valer US$1000 a US$68.000. La periodista señala que se determina con una regla “bastante básica”, la oferta y la demanda.\\n    “Cuando más personas quieren comprar, el precio sube. Y cuando a nadie le interesa, el precio baja”, sintetiza. \\n    Pero aclara que no ocurre lo mismo que en Wall Street. “Las criptomonedas no son acciones de una empresa. \\n    Son, como ya sabés, dinero digital, y eso significa que nadie las regula, ninguna autoridad las emite y, claro, no hay bancos que las guarden.\\n    Entonces, cómo se mueven sin ningún control, las subidas y las bajadas son frenéticas”, precisa Barría en el informe.\\n     El término criptoinvierno o crash cripto se acuñó en la primera gran caída de las criptomonedas, que se dio justo antes del último auge, \\n    en el que el bitcoin rozó los US$69.000, en noviembre del 2021. Secciones Revistas Redes sociales: Descargá la app: © Copyright 2023 SA LA NACION | Todos los derechos reservados. Dirección Nacional del Derecho de Autor DNDA - EXPEDIENTE DNDA (renovación) RL-2023-95334553-APN-DNDA#MJ. Queda prohibida la reproducción total o parcial del presente diario. Protegido por reCAPTCHA: CondicionesPrivacidad Miembro de GDA. Grupo de Diarios América',\n",
       "  'url': 'https://www.lanacion.com.ar/economia/ethereum-hoy-la-cotizacion-al-10-de-noviembre-nid10112023/'},\n",
       " {'title': 'Just a moment...',\n",
       "  'body': '',\n",
       "  'url': 'https://es.cointelegraph.com/news/eth-above-1-800-how-is-the-latin-american-market-performing'},\n",
       " {'title': 'cripto247.com',\n",
       "  'body': 'Please enable JS and disable any ad blocker',\n",
       "  'url': 'https://www.cripto247.com/mercados/eth-superó-los-2-000-dólares-y-blackrock-presentó-un-etf-de-ethereum-al-contado'},\n",
       " {'title': 'El ethereum rebasa los 2.000 dólares: BlackRock pide crear un ETF al contado  - Bolsamania.com',\n",
       "  'body': 'No es el primer producto de este tipo que se ha presentado para ser aprobado  Bolsamania Tiempo de lectura: 8min BlackRock ha vuelto a revolucionar el espacio de las criptomonedas. Tras presentar el pasado mes de junio una solicitud para crear un fondo cotizado (ETF, por sus siglas en inglés) de bitcoin (BTC) al contado, la mayor gestora del mundo presentó este jueves otra solicitud para crear un producto de inversión de este tipo basado en ETH. Durante la tarde de este jueves, saltó la noticia de que BlackRock había creado en Delaware el iShares Ethereum Trust, nombre de este fondo creado por iShares, la división de ETF de la mayor gestora del mundo. A las horas, la compañía presentaba en la bolsa Nasdaq la solicitud para cotizar en dicho mercado y disparaba el precio de la mayor \\'altcoin\\' del mercado, la cual ha rebasado los 2.000 dólares y se sitúa en niveles no vistos desde los peores momentos de la crisis bancaria desatada por el colapso de Silicon Valley Bank (SVB). Según consta en el documento judicial y al igual que ocurre con su propuesto ETF al contado de bitcoin, la criptobolsa Coinbase será la depositaria del ETH del producto en cuestión, mientras que un tercero no identificado custodiará el efectivo. Según los expertos, la adición de Coinbase puede ser clave para que la Comisión de Bolsa y Valores (SEC, por sus siglas en inglés) dé el visto bueno a estos productos. El pasado mes de septiembre, Giang Bui, responsable de renta variable y productos negociados en bolsa (ETP, por sus siglas en inglés) de Nasdaq, explicaba en una entrevista concedida a la revista \\'Forbes\\' que la inclusión de Coinbase como socio de vigilancia compartida respondía \"a la necesidad de que nuestra solicitud fuera lo más sólida posible\". \"En anteriores solicitudes que han desaprobado, hablaron de bolsas que no demuestran que su propuesta está diseñada para prevenir el fraude y la manipulación. La SEC explicó que la bolsa de cotización de un ETF de bitcoin puede cumplir esas obligaciones demostrando a la SEC que tiene un acuerdo de vigilancia exhaustiva compartida con un mercado regulado de tamaño significativo en lo que respecta al activo de referencia subyacente. Y su proceso de pensamiento es que, si una persona está tratando de manipular el ETF, hay una probabilidad muy razonable de que también tendría que operar en este mercado de tamaño. Así que la presencia de un acuerdo de vigilancia compartida ayudaría a detectar y disuadir cualquier tipo de mala conducta relacionada con el propio ETF\", explica el directivo de Nasdaq. De igual modo, el documento presentado este jueves por BlackRock aborda directamente este asunto al argumentar que los precios de los futuros de ETH en el Chicago Mercantile Exchange (CME, por sus siglas en inglés) coinciden estrechamente con los precios al contado de la \\'altcoin\\'. \"O bien la vigilancia de CME puede detectar fraudes en el mercado al contado que afecten tanto a los ETF de futuros como a los productos cotizados al contado, o bien la vigilancia no puede hacerlo para ninguno de los dos tipos de productos. Habiendo aprobado los ETF de futuros de ETH en parte sobre la base de dicha vigilancia, la Comisión ha determinado claramente que la vigilancia de la CME puede detectar el fraude del mercado al contado que afectaría a los ETP al contado, y el Patrocinador considera por tanto que también debe aprobar los ETP de ETH al contado sobre esa base\", indica la compañía en su escrito. Con todo, cabe señalar que el ETF de ETH propuesto por BlackRock, si bien ha sido el que nuevamente ha desatado el optimismo del mercado, no es el primero en ser presentado. En las últimas semanas, la SEC ha decidido postergar la aprobación de algunas solicitudes para crear estos productos de inversión presentados, entre otros, por ARK Invest y 21Shares, VanEck, Investo y Galaxy Digital o Grayscale. Al igual que ocurre con los fondos cotizados de bitcoin al contado, los expertos señalan que es muy posible que la SEC apruebe todos estos productos a la vez, si es que los aprueba, para evitar dar una ventaja competitiva a ninguna de estas entidades. A este respecto, los estrategas también destacan que la posible aprobación de los ETF de BTC al contado podrían reforzar el caso de los fondos cotizados de ethereum, que también tienen un argumento de peso a favor en la victoria judicial de Grayscale ante el regulador. Cabe señalar que numerosos expertos creen que los fondos cotizados de bitcoin abrirán la puerta a otros fondos cotizados basados en otras grandes \\'altcoins\\'. Por el contrario, otros analistas se muestran más escépticos y destacan que las últimas subidas son \"exageradas\", mientras que algunos estrategas como los de JP Morgan consideran que el optimismo del mercado es excesivo si se tiene en cuenta la poca actividad de los ETF de futuros de criptos. En las últimas semanas, el lanzamiento de ETF de futuros de ETH decepcionó notablemente a los observadores del mercado, que recortaron sus perspectivas sobre el ethereum. EMPRESAS DEL GRUPO VORTEX MEDIA NETWORK S.L La remisión de información, novedades y promociones Establecimiento o mantenimiento de Relaciones Comerciales. Consentimiento del interesado. Interés legítimo en el desarrollo de la relación comercial  Empresas del Grupo VORTEX MEDIA NETWORK S.L Acceso, rectificación, supresión, limitación, oposición y portabilidad \\n                                Política de Privacidad de nuestra página Web\\n                                + INFORMACIÓN\\n 2023 © Bolsamania.com',\n",
       "  'url': 'https://www.bolsamania.com/noticias/criptodivisas/ethereum-rebasa-2000-dolares-blackrock-etf-contado--15294238.html'}]"
      ]
     },
     "execution_count": 6,
     "metadata": {},
     "output_type": "execute_result"
    }
   ],
   "source": [
    "l"
   ]
  },
  {
   "cell_type": "code",
   "execution_count": 9,
   "metadata": {},
   "outputs": [
    {
     "ename": "ModuleNotFoundError",
     "evalue": "No module named 'spacy'",
     "output_type": "error",
     "traceback": [
      "\u001b[1;31m---------------------------------------------------------------------------\u001b[0m",
      "\u001b[1;31mModuleNotFoundError\u001b[0m                       Traceback (most recent call last)",
      "\u001b[1;32mc:\\Users\\rodrigo\\Desktop\\NLP\\scraping_EDA.ipynb Celda 6\u001b[0m line \u001b[0;36m2\n\u001b[0;32m      <a href='vscode-notebook-cell:/c%3A/Users/rodrigo/Desktop/NLP/scraping_EDA.ipynb#X14sZmlsZQ%3D%3D?line=0'>1</a>\u001b[0m \u001b[39m#Ner\u001b[39;00m\n\u001b[1;32m----> <a href='vscode-notebook-cell:/c%3A/Users/rodrigo/Desktop/NLP/scraping_EDA.ipynb#X14sZmlsZQ%3D%3D?line=1'>2</a>\u001b[0m \u001b[39mimport\u001b[39;00m \u001b[39mspacy\u001b[39;00m\n\u001b[0;32m      <a href='vscode-notebook-cell:/c%3A/Users/rodrigo/Desktop/NLP/scraping_EDA.ipynb#X14sZmlsZQ%3D%3D?line=2'>3</a>\u001b[0m \u001b[39mdef\u001b[39;00m \u001b[39mdevolverNer\u001b[39m(textoTot):\n\u001b[0;32m      <a href='vscode-notebook-cell:/c%3A/Users/rodrigo/Desktop/NLP/scraping_EDA.ipynb#X14sZmlsZQ%3D%3D?line=3'>4</a>\u001b[0m   nlp \u001b[39m=\u001b[39m spacy\u001b[39m.\u001b[39mload(\u001b[39m\"\u001b[39m\u001b[39men_core_web_sm\u001b[39m\u001b[39m\"\u001b[39m)\n",
      "\u001b[1;31mModuleNotFoundError\u001b[0m: No module named 'spacy'"
     ]
    }
   ],
   "source": [
    "#Ner\n",
    "import spacy\n",
    "def devolverNer(textoTot):\n",
    "  nlp = spacy.load(\"en_core_web_sm\")\n",
    "  ner_categories = [\"PERSON\",\"ORG\",\"GPE\",\"PRODUCT\"]\n",
    "  listaNer = []\n",
    "  doc = nlp(textoTot)\n",
    "  entidades = []\n",
    "  for ent in doc.ents:\n",
    "    if ent.label_ in ner_categories:\n",
    "      entidades.append((ent.text,ent.label_))\n",
    "  for entity,category in entidades:\n",
    "    listaNer.append(entity)\n",
    "  return set(listaNer)"
   ]
  },
  {
   "cell_type": "code",
   "execution_count": null,
   "metadata": {},
   "outputs": [],
   "source": []
  },
  {
   "cell_type": "code",
   "execution_count": 10,
   "metadata": {},
   "outputs": [],
   "source": [
    "#Sentimiento\n",
    "from textblob import TextBlob\n",
    "def sentimientoTexto(texto):\n",
    "  polaridad = TextBlob(texto).sentiment.polarity\n",
    "  if polaridad > 0:\n",
    "    return \"positivo\"\n",
    "  elif polaridad > 0:\n",
    "    return \"negativo\"\n",
    "  else:\n",
    "    return \"neutro\""
   ]
  },
  {
   "cell_type": "code",
   "execution_count": null,
   "metadata": {},
   "outputs": [],
   "source": []
  },
  {
   "cell_type": "code",
   "execution_count": null,
   "metadata": {},
   "outputs": [],
   "source": []
  },
  {
   "cell_type": "code",
   "execution_count": null,
   "metadata": {},
   "outputs": [],
   "source": []
  },
  {
   "cell_type": "code",
   "execution_count": 7,
   "metadata": {},
   "outputs": [],
   "source": [
    "l = []\n",
    "url = 'https://cointelegraph.com/tags/ethereum'\n",
    "headers={\"User-Agent\":\"Mozilla/5.0 (Windows NT 10.0; Win64; x64) AppleWebKit/537.36 (KHTML, like Gecko) Chrome/107.0.0.0 Safari/537.36\"}\n",
    "response = requests.get(url,headers=headers)\n",
    "soup = BeautifulSoup(response.content, 'html.parser')\n",
    "news_elements = soup.find_all(class_='post-card-inline__title-link')[:2]\n",
    "for news_element in news_elements:\n",
    "  link = news_element['href']\n",
    "  l.append(scrape_url(\"https://cointelegraph.com\" + link))"
   ]
  },
  {
   "cell_type": "code",
   "execution_count": 8,
   "metadata": {},
   "outputs": [
    {
     "data": {
      "text/plain": [
       "[{'title': 'Just a moment...',\n",
       "  'body': '',\n",
       "  'url': 'https://cointelegraph.com/news/black-rock-ether-etf-eth-price-btc-etf-done-deal'},\n",
       " {'title': 'Just a moment...',\n",
       "  'body': '',\n",
       "  'url': 'https://cointelegraph.com/news/cme-tops-bitcoin-futures-oi-drive-institutional-uptake'}]"
      ]
     },
     "execution_count": 8,
     "metadata": {},
     "output_type": "execute_result"
    }
   ],
   "source": [
    "l"
   ]
  }
 ],
 "metadata": {
  "kernelspec": {
   "display_name": "steam_v1",
   "language": "python",
   "name": "python3"
  },
  "language_info": {
   "codemirror_mode": {
    "name": "ipython",
    "version": 3
   },
   "file_extension": ".py",
   "mimetype": "text/x-python",
   "name": "python",
   "nbconvert_exporter": "python",
   "pygments_lexer": "ipython3",
   "version": "3.11.4"
  }
 },
 "nbformat": 4,
 "nbformat_minor": 2
}
